{
 "cells": [
  {
   "cell_type": "markdown",
   "id": "c2f38baa-221d-47cc-b805-1a1a17c5c581",
   "metadata": {},
   "source": [
    "### Calculate the density of tourist attractions in each LSOA in London "
   ]
  },
  {
   "cell_type": "code",
   "execution_count": 11,
   "id": "2d3c04a9-2037-422f-9bb5-20b03c825844",
   "metadata": {},
   "outputs": [
    {
     "name": "stdout",
     "output_type": "stream",
     "text": [
      "Requirement already satisfied: osmnx in /opt/conda/lib/python3.11/site-packages (2.0.0)\n",
      "Requirement already satisfied: geopandas>=1.0 in /opt/conda/lib/python3.11/site-packages (from osmnx) (1.0.1)\n",
      "Requirement already satisfied: networkx>=2.5 in /opt/conda/lib/python3.11/site-packages (from osmnx) (3.3)\n",
      "Requirement already satisfied: numpy>=1.22 in /opt/conda/lib/python3.11/site-packages (from osmnx) (1.26.4)\n",
      "Requirement already satisfied: pandas>=1.4 in /opt/conda/lib/python3.11/site-packages (from osmnx) (2.2.2)\n",
      "Requirement already satisfied: requests>=2.27 in /opt/conda/lib/python3.11/site-packages (from osmnx) (2.32.3)\n",
      "Requirement already satisfied: shapely>=2.0 in /opt/conda/lib/python3.11/site-packages (from osmnx) (2.0.6)\n",
      "Requirement already satisfied: pyogrio>=0.7.2 in /opt/conda/lib/python3.11/site-packages (from geopandas>=1.0->osmnx) (0.9.0)\n",
      "Requirement already satisfied: packaging in /opt/conda/lib/python3.11/site-packages (from geopandas>=1.0->osmnx) (24.1)\n",
      "Requirement already satisfied: pyproj>=3.3.0 in /opt/conda/lib/python3.11/site-packages (from geopandas>=1.0->osmnx) (3.6.1)\n",
      "Requirement already satisfied: python-dateutil>=2.8.2 in /opt/conda/lib/python3.11/site-packages (from pandas>=1.4->osmnx) (2.9.0)\n",
      "Requirement already satisfied: pytz>=2020.1 in /opt/conda/lib/python3.11/site-packages (from pandas>=1.4->osmnx) (2024.1)\n",
      "Requirement already satisfied: tzdata>=2022.7 in /opt/conda/lib/python3.11/site-packages (from pandas>=1.4->osmnx) (2024.1)\n",
      "Requirement already satisfied: charset-normalizer<4,>=2 in /opt/conda/lib/python3.11/site-packages (from requests>=2.27->osmnx) (3.3.2)\n",
      "Requirement already satisfied: idna<4,>=2.5 in /opt/conda/lib/python3.11/site-packages (from requests>=2.27->osmnx) (3.8)\n",
      "Requirement already satisfied: urllib3<3,>=1.21.1 in /opt/conda/lib/python3.11/site-packages (from requests>=2.27->osmnx) (2.2.2)\n",
      "Requirement already satisfied: certifi>=2017.4.17 in /opt/conda/lib/python3.11/site-packages (from requests>=2.27->osmnx) (2024.8.30)\n",
      "Requirement already satisfied: six>=1.5 in /opt/conda/lib/python3.11/site-packages (from python-dateutil>=2.8.2->pandas>=1.4->osmnx) (1.16.0)\n"
     ]
    }
   ],
   "source": [
    "!pip install --upgrade osmnx"
   ]
  },
  {
   "cell_type": "code",
   "execution_count": 12,
   "id": "3a1cf91c-df6f-46cd-8b13-2b08c36f96e8",
   "metadata": {},
   "outputs": [
    {
     "name": "stdout",
     "output_type": "stream",
     "text": [
      "2.0.0\n"
     ]
    }
   ],
   "source": [
    "import osmnx as ox\n",
    "print(ox.__version__)  # Should be 1.2.2 or newer"
   ]
  },
  {
   "cell_type": "code",
   "execution_count": 17,
   "id": "bc9810e4-f2e7-4bf9-b3a5-36786b1a3678",
   "metadata": {},
   "outputs": [
    {
     "name": "stdout",
     "output_type": "stream",
     "text": [
      "Tourist attraction density has been saved to data/london_lsoa_tourist_density.csv\n"
     ]
    }
   ],
   "source": [
    "import geopandas as gpd\n",
    "import osmnx as ox\n",
    "import pandas as pd\n",
    "\n",
    "# Step 1: Load London LSOA boundary data\n",
    "lsoa_boundaries = gpd.read_file(\"data/London/LSOA_2011_London_gen_MHW.shp\")\n",
    "\n",
    "# Step 2: Retrieve tourist attraction data for London\n",
    "# Use OSMnx to extract nodes tagged as `tourism=attraction`\n",
    "tourist_attractions = ox.features_from_place(\n",
    "    \"London, England\", tags={\"tourism\": \"attraction\"}\n",
    ")\n",
    "\n",
    "# Ensure the coordinate reference system (CRS) is consistent\n",
    "tourist_attractions = tourist_attractions.to_crs(lsoa_boundaries.crs)\n",
    "\n",
    "# Step 3: Count the number of tourist attractions within each LSOA\n",
    "lsoa_boundaries[\"tourist_attraction_count\"] = lsoa_boundaries.apply(\n",
    "    lambda row: tourist_attractions.within(row.geometry).sum(), axis=1\n",
    ")\n",
    "\n",
    "# Step 4: Calculate the density of tourist attractions (per square kilometer)\n",
    "# Transform to an equal-area projection to compute accurate area\n",
    "lsoa_boundaries = lsoa_boundaries.to_crs({\"proj\": \"cea\"})\n",
    "lsoa_boundaries[\"area_km2\"] = lsoa_boundaries.geometry.area / 1e6  # Convert to square kilometers\n",
    "\n",
    "# Tourist attraction density = count / area\n",
    "lsoa_boundaries[\"tourist_attraction_density\"] = (\n",
    "    lsoa_boundaries[\"tourist_attraction_count\"] / lsoa_boundaries[\"area_km2\"]\n",
    ")\n",
    "\n",
    "# Step 5: Export results to a CSV file\n",
    "# Use 'LSOA11CD' as the LSOA code column\n",
    "output_path = \"data/london_lsoa_tourist_density.csv\"\n",
    "output_csv = lsoa_boundaries[[\"LSOA11CD\", \"tourist_attraction_count\", \"tourist_attraction_density\"]]\n",
    "output_csv.to_csv(output_path, index=False)\n",
    "\n",
    "print(f\"Tourist attraction density has been saved to {output_path}\")"
   ]
  },
  {
   "cell_type": "code",
   "execution_count": null,
   "id": "55f1ffbd-d5e4-4fc2-8a2a-6e6cc2b724ce",
   "metadata": {},
   "outputs": [],
   "source": []
  }
 ],
 "metadata": {
  "kernelspec": {
   "display_name": "Python (base)",
   "language": "python",
   "name": "base"
  },
  "language_info": {
   "codemirror_mode": {
    "name": "ipython",
    "version": 3
   },
   "file_extension": ".py",
   "mimetype": "text/x-python",
   "name": "python",
   "nbconvert_exporter": "python",
   "pygments_lexer": "ipython3",
   "version": "3.11.9"
  }
 },
 "nbformat": 4,
 "nbformat_minor": 5
}
